{
  "nbformat": 4,
  "nbformat_minor": 0,
  "metadata": {
    "colab": {
      "provenance": [],
      "authorship_tag": "ABX9TyNjfXzOnZd/J6yIMuIwMI7g",
      "include_colab_link": true
    },
    "kernelspec": {
      "name": "python3",
      "display_name": "Python 3"
    },
    "language_info": {
      "name": "python"
    }
  },
  "cells": [
    {
      "cell_type": "markdown",
      "metadata": {
        "id": "view-in-github",
        "colab_type": "text"
      },
      "source": [
        "<a href=\"https://colab.research.google.com/github/DivyaPrasanna56/DivyaPrasanna56/blob/main/genre_and_speaker.ipynb\" target=\"_parent\"><img src=\"https://colab.research.google.com/assets/colab-badge.svg\" alt=\"Open In Colab\"/></a>"
      ]
    },
    {
      "cell_type": "code",
      "execution_count": null,
      "metadata": {
        "id": "X6_o99LJCn77"
      },
      "outputs": [],
      "source": [
        "def count_genres():\n",
        "    file = open(\"/content/How to set up an educational YouTube channel #youtubechannel #youtubetips.txt\", 'r')\n",
        "\n",
        "    rock = 0\n",
        "    classical = 0\n",
        "    pop = 0\n",
        "    jazz = 0\n",
        "    spoken_word = 0\n",
        "\n",
        "\n",
        "    for row in file:\n",
        "        if not row[0] == \"#\":\n",
        "            row = row.rstrip()\n",
        "            row = row.split(\",\")\n",
        "            genre = str(row[2])\n",
        "\n",
        "            if genre == \"entrepreneurship :\":\n",
        "                entrepreneurship  += 1\n",
        "            elif genre==\"Techonology\":\n",
        "                techonology += 1\n",
        "            elif genre==\"Education\":\n",
        "                education += 1\n",
        "            elif genre==\"YouTubeVideo\":\n",
        "                YouTubeVideo += 1\n",
        "\n",
        "            elif genre == \"digital marketing\":\n",
        "                digitalmarketing += 1\n",
        "            elif genre == \"Pop\":\n",
        "                pop += 1\n",
        "            elif genre == \"money\":\n",
        "                money += 1\n",
        "            elif genre == \"Spoken Word\":\n",
        "                spoken_word += 1\n",
        "\n",
        "    print(\"Amount of Records in each genre \")\n",
        "    print(\"entrepreneurship: \",entrepreneurship )\n",
        "    print(\"digital marketing: \", digitalmarketing)\n",
        "    print(\"Pop: \", pop)\n",
        "    print(\"money: \", money)\n",
        "    print(\"Spoken Word: \", spoken_word)\n",
        "    print(\"Techonology: \", techonology)\n",
        "    print(\"Education: \", education)\n",
        "    print(\"YouTubeVideo: \", YouTubeVideo)"
      ]
    },
    {
      "cell_type": "code",
      "source": [
        "def find_genre_in_file(filename, target_genre):\n",
        "    found = False\n",
        "\n",
        "    with open(filename, 'r') as file:\n",
        "        for line in file:\n",
        "            if not line.startswith(\"#\"):  # Skip comments\n",
        "                parts = line.strip().split(\",\")  # Adjust delimiter as needed\n",
        "                if len(parts) > 2:  # Ensure there are enough parts\n",
        "                    genre = parts[2].strip()  # Adjust index if genre is in a different position\n",
        "                    if genre.lower() == target_genre.lower():  # Case insensitive comparison\n",
        "                        found = True\n",
        "                        print(f\"Found genre: {genre} in line: {line.strip()}\")\n",
        "\n",
        "    if not found:\n",
        "        print(f\"{target_genre} not found in the file.\")\n",
        "\n",
        "# Example usage\n",
        "find_genre_in_file(\"/content/How to set up an educational YouTube channel #youtubechannel #youtubetips.txt\", \"digital marketing\")\n"
      ],
      "metadata": {
        "colab": {
          "base_uri": "https://localhost:8080/"
        },
        "id": "Hgt35hhqDLqP",
        "outputId": "493392ff-d8b2-4f03-c453-1d23cac578a0"
      },
      "execution_count": null,
      "outputs": [
        {
          "output_type": "stream",
          "name": "stdout",
          "text": [
            "digital marketing not found in the file.\n"
          ]
        }
      ]
    },
    {
      "cell_type": "code",
      "source": [
        "def count_speakers(file_path):\n",
        "    # Assuming all text is from one narrator\n",
        "    return 1  # or adjust based on your criteria\n",
        "\n",
        "# Example usage\n",
        "file_path = '/content/How to set up an educational YouTube channel #youtubechannel #youtubetips (1).txt'  # Replace with your text file path\n",
        "num_speakers = count_speakers(file_path)\n",
        "print(f'Number of speakers: {num_speakers}')\n"
      ],
      "metadata": {
        "colab": {
          "base_uri": "https://localhost:8080/"
        },
        "id": "qmlHeGyTDUrd",
        "outputId": "2a8de118-23c8-4efc-cb04-1e5fd61ecac7"
      },
      "execution_count": null,
      "outputs": [
        {
          "output_type": "stream",
          "name": "stdout",
          "text": [
            "Number of speakers: 1\n"
          ]
        }
      ]
    }
  ]
}