{
  "nbformat": 4,
  "nbformat_minor": 0,
  "metadata": {
    "colab": {
      "provenance": [],
      "authorship_tag": "ABX9TyNNHLaVZXWozn06+mXWriLX",
      "include_colab_link": true
    },
    "kernelspec": {
      "name": "python3",
      "display_name": "Python 3"
    },
    "language_info": {
      "name": "python"
    }
  },
  "cells": [
    {
      "cell_type": "markdown",
      "metadata": {
        "id": "view-in-github",
        "colab_type": "text"
      },
      "source": [
        "<a href=\"https://colab.research.google.com/github/DivyaPrasanna56/DivyaPrasanna56/blob/main/mail.ipynb\" target=\"_parent\"><img src=\"https://colab.research.google.com/assets/colab-badge.svg\" alt=\"Open In Colab\"/></a>"
      ]
    },
    {
      "cell_type": "code",
      "execution_count": null,
      "metadata": {
        "colab": {
          "base_uri": "https://localhost:8080/"
        },
        "id": "ceWH7ru-2BrE",
        "outputId": "324c5e3f-2fea-43c0-9bd4-a910d5b167c7"
      },
      "outputs": [
        {
          "output_type": "stream",
          "name": "stdout",
          "text": [
            "Failed to send email: (535, b'5.7.8 Username and Password not accepted. For more information, go to\\n5.7.8  https://support.google.com/mail/?p=BadCredentials 41be03b00d2f7-7ee528e9ddesm2545944a12.42 - gsmtp')\n"
          ]
        }
      ],
      "source": [
        "import smtplib\n",
        "from email.mime.text import MIMEText\n",
        "from email.mime.multipart import MIMEMultipart\n",
        "\n",
        "def send_email(sender_email, receiver_email, subject, body, smtp_server, port, password):\n",
        "    # Create a MIMEText message object\n",
        "    msg = MIMEMultipart()\n",
        "    msg['From'] = sender_email\n",
        "    msg['To'] = receiver_email\n",
        "    msg['Subject'] = subject\n",
        "    msg.attach(MIMEText(body, 'plain'))\n",
        "\n",
        "    try:\n",
        "        # Connect to the SMTP server\n",
        "        with smtplib.SMTP(smtp_server, port) as server:\n",
        "            server.starttls()  # Secure the connection\n",
        "            server.login(sender_email, password)\n",
        "            server.sendmail(sender_email, receiver_email, msg.as_string())\n",
        "        print(\"Email sent successfully!\")\n",
        "    except Exception as e:\n",
        "        print(f\"Failed to send email: {e}\")\n",
        "\n",
        "# Usage\n",
        "sender = \"22nn1a4256@gmail.com\"  # Replace with actual sender email\n",
        "receiver = \"22nn1a4259@gmail.com\"  # Replace with actual receiver email\n",
        "subject = \"Test Email\"\n",
        "body = \"This is a test email sent from Python.\"\n",
        "smtp_server = \"smtp.gmail.com\"  # Replace with actual SMTP server, e.g., 'smtp.gmail.com'\n",
        "port = 587  # Use the correct port, e.g., 587 for TLS\n",
        "password = \"23024256@divya\"  # Replace with actual password for sender email\n",
        "\n",
        "send_email(sender, receiver, subject, body, smtp_server, port, password)\n"
      ]
    },
    {
      "cell_type": "code",
      "source": [
        "import smtplib\n",
        "from email.mime.text import MIMEText\n",
        "from email.mime.multipart import MIMEMultipart\n",
        "import os\n",
        "\n",
        "def send_email(sender_email, receiver_email, subject, body, smtp_server, port, password):\n",
        "    msg = MIMEMultipart()\n",
        "    msg['From'] = sender_email\n",
        "    msg['To'] = receiver_email\n",
        "    msg['Subject'] = subject\n",
        "    msg.attach(MIMEText(body, 'plain'))\n",
        "\n",
        "    try:\n",
        "        with smtplib.SMTP(smtp_server, port) as server:\n",
        "            server.starttls()\n",
        "            server.login(sender_email, password)\n",
        "            server.sendmail(sender_email, receiver_email, msg.as_string())\n",
        "        print(\"Email sent successfully!\")\n",
        "    except smtplib.SMTPException as e:\n",
        "        print(f\"Failed to send email: {e}\")\n",
        "\n",
        "# Usage\n",
        "if __name__ == \"__main__\":\n",
        "    sender = os.getenv('SENDER_EMAIL')  # Set in your environment\n",
        "    receiver = os.getenv('RECEIVER_EMAIL')  # Set in your environment\n",
        "    subject = \"Test Email\"\n",
        "    body = \"This is a test email sent from Python.\"\n",
        "    smtp_server = \"smtp.gmail.com\"\n",
        "    port = 587\n",
        "    password = os.getenv('EMAIL_PASSWORD')  # Set in your environment\n",
        "\n",
        "    send_email(sender, receiver, subject, body, smtp_server, port, password)\n"
      ],
      "metadata": {
        "colab": {
          "base_uri": "https://localhost:8080/"
        },
        "id": "vNWeKdIx3fHl",
        "outputId": "9f1561eb-88c2-432f-9f27-3b32757e58bb"
      },
      "execution_count": null,
      "outputs": [
        {
          "output_type": "stream",
          "name": "stdout",
          "text": [
            "Failed to send email: (334, b'UGFzc3dvcmQ6')\n"
          ]
        }
      ]
    }
  ]
}